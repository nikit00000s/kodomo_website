{
 "cells": [
  {
   "cell_type": "code",
   "execution_count": 5,
   "metadata": {},
   "outputs": [
    {
     "name": "stdout",
     "output_type": "stream",
     "text": [
      "Input error: [Errno 2] No such file or directory: 'table.txt'\n"
     ]
    },
    {
     "ename": "NameError",
     "evalue": "name 'tabletxt' is not defined",
     "output_type": "error",
     "traceback": [
      "\u001b[0;31m---------------------------------------------------------------------------\u001b[0m",
      "\u001b[0;31mNameError\u001b[0m                                 Traceback (most recent call last)",
      "\u001b[0;32m<ipython-input-5-f47cb79b38d6>\u001b[0m in \u001b[0;36m<module>\u001b[0;34m\u001b[0m\n\u001b[1;32m     24\u001b[0m \u001b[0;34m\u001b[0m\u001b[0m\n\u001b[1;32m     25\u001b[0m \u001b[0;32mtry\u001b[0m\u001b[0;34m:\u001b[0m\u001b[0;34m\u001b[0m\u001b[0;34m\u001b[0m\u001b[0m\n\u001b[0;32m---> 26\u001b[0;31m     \u001b[0mtablelog\u001b[0m \u001b[0;34m=\u001b[0m \u001b[0mtabletxt\u001b[0m\u001b[0;34m.\u001b[0m\u001b[0mread\u001b[0m\u001b[0;34m(\u001b[0m\u001b[0;34m)\u001b[0m\u001b[0;34m\u001b[0m\u001b[0;34m\u001b[0m\u001b[0m\n\u001b[0m\u001b[1;32m     27\u001b[0m \u001b[0;32mexcept\u001b[0m \u001b[0mEOFError\u001b[0m \u001b[0;32mas\u001b[0m \u001b[0merr\u001b[0m\u001b[0;34m:\u001b[0m\u001b[0;34m\u001b[0m\u001b[0;34m\u001b[0m\u001b[0m\n\u001b[1;32m     28\u001b[0m     \u001b[0mprint\u001b[0m\u001b[0;34m(\u001b[0m\u001b[0;34m\"Read file error: {0}\"\u001b[0m\u001b[0;34m.\u001b[0m\u001b[0mformat\u001b[0m\u001b[0;34m(\u001b[0m\u001b[0merr\u001b[0m\u001b[0;34m)\u001b[0m\u001b[0;34m)\u001b[0m\u001b[0;34m\u001b[0m\u001b[0;34m\u001b[0m\u001b[0m\n",
      "\u001b[0;31mNameError\u001b[0m: name 'tabletxt' is not defined"
     ]
    }
   ],
   "source": [
    "def table(content):\n",
    "    result = \"<table>\\n\" + content + \"</table>\\n\"\n",
    "    return result\n",
    "\n",
    "def tr(content):\n",
    "    result = \"<tr>\\n\" + content + \"</tr>\\n\"\n",
    "    return result\n",
    "\n",
    "def th(content):\n",
    "    result = \"<th>\\n\" + content + \"</th>\\n\"\n",
    "    return result\n",
    "\n",
    "def td(content):\n",
    "    result = \"<td>\\n\" + content + \"</td>\\n\"\n",
    "    return result\n",
    "\n",
    "\n",
    "try:\n",
    "    tabletxt = open(\"table.txt\", 'r')\n",
    "    tablehtml = open(\"table.html\", 'w')\n",
    "except IOError as err:\n",
    "    print(\"Input error: {0}\".format(err))\n",
    "    \n",
    "    \n",
    "try:\n",
    "    tablelog = tabletxt.read()\n",
    "except EOFError as err:\n",
    "    print(\"Read file error: {0}\".format(err))    \n",
    "    \n",
    "\n",
    "tablelist = tablelog.split(\"\\n\")\n",
    "for index, item in enumerate(tablelist):\n",
    "    tablelist[index] = item.split(\"\\t\")\n",
    "    index += 1\n",
    "    \n",
    "    \n",
    "result = \"\"\n",
    "for y, row in enumerate(tablelist):\n",
    "    tmp = \"\"\n",
    "    if (y == 0):\n",
    "        for x, item in enumerate(row):\n",
    "            tmp += th(item)\n",
    "            x += 1\n",
    "        tmp = tr(tmp)\n",
    "        y += 1\n",
    "        \n",
    "    for x, item in enumerate(row):\n",
    "        tmp += td(item)\n",
    "        x += 1\n",
    "    tmp = tr(tmp)\n",
    "    y += 1\n",
    "    result += tmp\n",
    "result = table(result)\n",
    "\n",
    "tablehtml.write(result)\n",
    "\n",
    "tabletxt.exit()\n",
    "tablehtml.exit()\n",
    "    \n",
    "    \n",
    "\n",
    "    \n"
   ]
  },
  {
   "cell_type": "code",
   "execution_count": null,
   "metadata": {},
   "outputs": [],
   "source": []
  },
  {
   "cell_type": "code",
   "execution_count": null,
   "metadata": {},
   "outputs": [],
   "source": []
  }
 ],
 "metadata": {
  "kernelspec": {
   "display_name": "Python 3",
   "language": "python",
   "name": "python3"
  },
  "language_info": {
   "codemirror_mode": {
    "name": "ipython",
    "version": 3
   },
   "file_extension": ".py",
   "mimetype": "text/x-python",
   "name": "python",
   "nbconvert_exporter": "python",
   "pygments_lexer": "ipython3",
   "version": "3.7.1"
  }
 },
 "nbformat": 4,
 "nbformat_minor": 2
}
