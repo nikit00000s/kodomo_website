{
 "cells": [
  {
   "cell_type": "code",
   "execution_count": 1,
   "metadata": {},
   "outputs": [],
   "source": [
    "import numpy as np\n",
    "import pandas as pd"
   ]
  },
  {
   "cell_type": "code",
   "execution_count": 2,
   "metadata": {},
   "outputs": [],
   "source": [
    "#variant 7\n",
    "alignment = '''cagcatgac\n",
    "aaacatggg\n",
    "caaaatggt\n",
    "caacatgtc\n",
    "aaccatgga\n",
    "gacaatggc\n",
    "aattatggc\n",
    "gaatatggc\n",
    "gaagatgga\n",
    "caagatgtc\n",
    "cagcatgtc\n",
    "aatcatgga'''.upper()\n",
    "alignLen = len(alignment.split()[0])\n",
    "alignCount = len(alignment.split())\n",
    "colNames = np.arange(alignLen)\n",
    "rowNames = ['A', 'C', 'G', 'T']"
   ]
  },
  {
   "cell_type": "code",
   "execution_count": 3,
   "metadata": {},
   "outputs": [],
   "source": [
    "count = np.zeros([alignLen, 4])\n",
    "for line in alignment.split():\n",
    "    for pos, base in enumerate(line):\n",
    "        count[pos][rowNames.index(base)] += 1"
   ]
  },
  {
   "cell_type": "code",
   "execution_count": 4,
   "metadata": {},
   "outputs": [],
   "source": [
    "pseudoValue = 0\n",
    "gcContent = 0.386\n",
    "gContent = cContent = gcContent / 2\n",
    "aContent = tContent = (1 - gcContent) / 2\n",
    "expContent = [aContent, cContent, gContent, tContent]\n",
    "freqMatrix = (count + pseudoValue) / (alignCount + pseudoValue)"
   ]
  },
  {
   "cell_type": "code",
   "execution_count": 5,
   "metadata": {},
   "outputs": [],
   "source": [
    "expFreq = [expContent] * alignLen\n",
    "freqMatrixSafe = freqMatrix.copy()\n",
    "freqMatrixSafe[freqMatrixSafe == 0] = 1\n",
    "ICmatrix = freqMatrix * np.log2(freqMatrixSafe / expFreq)"
   ]
  },
  {
   "cell_type": "code",
   "execution_count": 6,
   "metadata": {},
   "outputs": [],
   "source": [
    "ICpos = np.array(list(map(sum, ICmatrix)))"
   ]
  },
  {
   "cell_type": "code",
   "execution_count": 9,
   "metadata": {},
   "outputs": [],
   "source": [
    "ICtotal = sum(ICpos)"
   ]
  },
  {
   "cell_type": "code",
   "execution_count": 10,
   "metadata": {},
   "outputs": [
    {
     "data": {
      "text/plain": [
       "10.132388469428477"
      ]
     },
     "execution_count": 10,
     "metadata": {},
     "output_type": "execute_result"
    }
   ],
   "source": [
    "ICtotal"
   ]
  },
  {
   "cell_type": "code",
   "execution_count": 11,
   "metadata": {},
   "outputs": [],
   "source": [
    "IC_let_pos_df = pd.DataFrame(data=ICmatrix.transpose(),\n",
    "                    index=rowNames,\n",
    "                    columns=colNames)"
   ]
  },
  {
   "cell_type": "code",
   "execution_count": 12,
   "metadata": {},
   "outputs": [
    {
     "data": {
      "text/html": [
       "<div>\n",
       "<style scoped>\n",
       "    .dataframe tbody tr th:only-of-type {\n",
       "        vertical-align: middle;\n",
       "    }\n",
       "\n",
       "    .dataframe tbody tr th {\n",
       "        vertical-align: top;\n",
       "    }\n",
       "\n",
       "    .dataframe thead th {\n",
       "        text-align: right;\n",
       "    }\n",
       "</style>\n",
       "<table border=\"1\" class=\"dataframe\">\n",
       "  <thead>\n",
       "    <tr style=\"text-align: right;\">\n",
       "      <th></th>\n",
       "      <th>0</th>\n",
       "      <th>1</th>\n",
       "      <th>2</th>\n",
       "      <th>3</th>\n",
       "      <th>4</th>\n",
       "      <th>5</th>\n",
       "      <th>6</th>\n",
       "      <th>7</th>\n",
       "      <th>8</th>\n",
       "    </tr>\n",
       "  </thead>\n",
       "  <tbody>\n",
       "    <tr>\n",
       "      <th>A</th>\n",
       "      <td>0.039576</td>\n",
       "      <td>1.703689</td>\n",
       "      <td>0.351845</td>\n",
       "      <td>-0.146879</td>\n",
       "      <td>1.703689</td>\n",
       "      <td>0.000000</td>\n",
       "      <td>0.000000</td>\n",
       "      <td>-0.156773</td>\n",
       "      <td>-0.074078</td>\n",
       "    </tr>\n",
       "    <tr>\n",
       "      <th>C</th>\n",
       "      <td>0.462622</td>\n",
       "      <td>0.000000</td>\n",
       "      <td>-0.035273</td>\n",
       "      <td>0.686664</td>\n",
       "      <td>0.000000</td>\n",
       "      <td>0.000000</td>\n",
       "      <td>0.000000</td>\n",
       "      <td>0.000000</td>\n",
       "      <td>0.930836</td>\n",
       "    </tr>\n",
       "    <tr>\n",
       "      <th>G</th>\n",
       "      <td>0.093332</td>\n",
       "      <td>0.000000</td>\n",
       "      <td>-0.035273</td>\n",
       "      <td>-0.035273</td>\n",
       "      <td>0.000000</td>\n",
       "      <td>0.000000</td>\n",
       "      <td>2.373327</td>\n",
       "      <td>1.192243</td>\n",
       "      <td>-0.100970</td>\n",
       "    </tr>\n",
       "    <tr>\n",
       "      <th>T</th>\n",
       "      <td>0.000000</td>\n",
       "      <td>0.000000</td>\n",
       "      <td>-0.146879</td>\n",
       "      <td>-0.146879</td>\n",
       "      <td>0.000000</td>\n",
       "      <td>1.703689</td>\n",
       "      <td>0.000000</td>\n",
       "      <td>-0.074078</td>\n",
       "      <td>-0.156773</td>\n",
       "    </tr>\n",
       "  </tbody>\n",
       "</table>\n",
       "</div>"
      ],
      "text/plain": [
       "          0         1         2         3         4         5         6  \\\n",
       "A  0.039576  1.703689  0.351845 -0.146879  1.703689  0.000000  0.000000   \n",
       "C  0.462622  0.000000 -0.035273  0.686664  0.000000  0.000000  0.000000   \n",
       "G  0.093332  0.000000 -0.035273 -0.035273  0.000000  0.000000  2.373327   \n",
       "T  0.000000  0.000000 -0.146879 -0.146879  0.000000  1.703689  0.000000   \n",
       "\n",
       "          7         8  \n",
       "A -0.156773 -0.074078  \n",
       "C  0.000000  0.930836  \n",
       "G  1.192243 -0.100970  \n",
       "T -0.074078 -0.156773  "
      ]
     },
     "execution_count": 12,
     "metadata": {},
     "output_type": "execute_result"
    }
   ],
   "source": [
    "IC_let_pos_df"
   ]
  },
  {
   "cell_type": "code",
   "execution_count": 14,
   "metadata": {},
   "outputs": [],
   "source": [
    "IC_let_pos_df.to_html('IC_let_pos.html')"
   ]
  },
  {
   "cell_type": "code",
   "execution_count": 15,
   "metadata": {},
   "outputs": [],
   "source": [
    "IC_pos_df = pd.DataFrame(data=ICpos[np.newaxis].tolist(),\n",
    "                    index=['A+C+G+T'],\n",
    "                    columns=colNames)"
   ]
  },
  {
   "cell_type": "code",
   "execution_count": 16,
   "metadata": {},
   "outputs": [
    {
     "data": {
      "text/html": [
       "<div>\n",
       "<style scoped>\n",
       "    .dataframe tbody tr th:only-of-type {\n",
       "        vertical-align: middle;\n",
       "    }\n",
       "\n",
       "    .dataframe tbody tr th {\n",
       "        vertical-align: top;\n",
       "    }\n",
       "\n",
       "    .dataframe thead th {\n",
       "        text-align: right;\n",
       "    }\n",
       "</style>\n",
       "<table border=\"1\" class=\"dataframe\">\n",
       "  <thead>\n",
       "    <tr style=\"text-align: right;\">\n",
       "      <th></th>\n",
       "      <th>0</th>\n",
       "      <th>1</th>\n",
       "      <th>2</th>\n",
       "      <th>3</th>\n",
       "      <th>4</th>\n",
       "      <th>5</th>\n",
       "      <th>6</th>\n",
       "      <th>7</th>\n",
       "      <th>8</th>\n",
       "    </tr>\n",
       "  </thead>\n",
       "  <tbody>\n",
       "    <tr>\n",
       "      <th>A+C+G+T</th>\n",
       "      <td>0.595529</td>\n",
       "      <td>1.703689</td>\n",
       "      <td>0.134421</td>\n",
       "      <td>0.357633</td>\n",
       "      <td>1.703689</td>\n",
       "      <td>1.703689</td>\n",
       "      <td>2.373327</td>\n",
       "      <td>0.961393</td>\n",
       "      <td>0.599016</td>\n",
       "    </tr>\n",
       "  </tbody>\n",
       "</table>\n",
       "</div>"
      ],
      "text/plain": [
       "                0         1         2         3         4         5         6  \\\n",
       "A+C+G+T  0.595529  1.703689  0.134421  0.357633  1.703689  1.703689  2.373327   \n",
       "\n",
       "                7         8  \n",
       "A+C+G+T  0.961393  0.599016  "
      ]
     },
     "execution_count": 16,
     "metadata": {},
     "output_type": "execute_result"
    }
   ],
   "source": [
    "IC_pos_df"
   ]
  },
  {
   "cell_type": "code",
   "execution_count": 17,
   "metadata": {},
   "outputs": [],
   "source": [
    "IC_pos_df.to_html('IC_pos.html')"
   ]
  },
  {
   "cell_type": "code",
   "execution_count": null,
   "metadata": {},
   "outputs": [],
   "source": []
  }
 ],
 "metadata": {
  "kernelspec": {
   "display_name": "Python 3",
   "language": "python",
   "name": "python3"
  },
  "language_info": {
   "codemirror_mode": {
    "name": "ipython",
    "version": 3
   },
   "file_extension": ".py",
   "mimetype": "text/x-python",
   "name": "python",
   "nbconvert_exporter": "python",
   "pygments_lexer": "ipython3",
   "version": "3.7.3"
  }
 },
 "nbformat": 4,
 "nbformat_minor": 4
}
