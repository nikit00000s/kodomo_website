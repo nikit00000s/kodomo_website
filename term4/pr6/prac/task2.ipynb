{
 "cells": [
  {
   "cell_type": "code",
   "execution_count": 2,
   "metadata": {},
   "outputs": [],
   "source": [
    "import numpy as np\n",
    "import pandas as pd"
   ]
  },
  {
   "cell_type": "code",
   "execution_count": 10,
   "metadata": {},
   "outputs": [],
   "source": [
    "count = np.matrix([\n",
    "    [62, 5, 28, 5],\n",
    "    [39, 23, 17, 21],\n",
    "    [28, 36, 27, 10], \n",
    "    [100, 0, 0, 0],\n",
    "    [0, 0, 0, 100],\n",
    "    [0, 0, 100, 0],\n",
    "    [24, 12, 46, 17]\n",
    "])\n",
    "colNames = ['-3', '-2', '-1', '1', '2', '3', '4']\n",
    "rowNames = ['A', 'C', 'G', 'T']\n",
    "pseudoValue = 10\n",
    "gcContent = 0.386\n",
    "gContent = cContent = gcContent / 2\n",
    "aContent = tContent = (1 - gcContent) / 2\n",
    "expContent = [aContent, cContent, gContent, tContent]"
   ]
  },
  {
   "cell_type": "code",
   "execution_count": 11,
   "metadata": {},
   "outputs": [],
   "source": [
    "freqMatrix = (count + pseudoValue) / (100 + pseudoValue)"
   ]
  },
  {
   "cell_type": "code",
   "execution_count": 12,
   "metadata": {},
   "outputs": [],
   "source": [
    "PWMlist = []\n",
    "for pos in freqMatrix.tolist():\n",
    "    modPos = []\n",
    "    for idx, freq in enumerate(pos):\n",
    "        modFreq = np.log(freq/expContent[idx])\n",
    "        modPos.append(modFreq)\n",
    "    PWMlist.append(modPos)\n",
    "PWMtr = np.matrix(PWMlist).transpose().tolist()"
   ]
  },
  {
   "cell_type": "code",
   "execution_count": 13,
   "metadata": {},
   "outputs": [],
   "source": [
    "PWMdf = pd.DataFrame(data=PWMtr,\n",
    "                    index=rowNames,\n",
    "                    columns=colNames)"
   ]
  },
  {
   "cell_type": "code",
   "execution_count": 14,
   "metadata": {},
   "outputs": [
    {
     "data": {
      "text/html": [
       "<div>\n",
       "<style scoped>\n",
       "    .dataframe tbody tr th:only-of-type {\n",
       "        vertical-align: middle;\n",
       "    }\n",
       "\n",
       "    .dataframe tbody tr th {\n",
       "        vertical-align: top;\n",
       "    }\n",
       "\n",
       "    .dataframe thead th {\n",
       "        text-align: right;\n",
       "    }\n",
       "</style>\n",
       "<table border=\"1\" class=\"dataframe\">\n",
       "  <thead>\n",
       "    <tr style=\"text-align: right;\">\n",
       "      <th></th>\n",
       "      <th>-3</th>\n",
       "      <th>-2</th>\n",
       "      <th>-1</th>\n",
       "      <th>1</th>\n",
       "      <th>2</th>\n",
       "      <th>3</th>\n",
       "      <th>4</th>\n",
       "    </tr>\n",
       "  </thead>\n",
       "  <tbody>\n",
       "    <tr>\n",
       "      <th>A</th>\n",
       "      <td>0.757093</td>\n",
       "      <td>0.372247</td>\n",
       "      <td>0.118013</td>\n",
       "      <td>1.180908</td>\n",
       "      <td>-1.216988</td>\n",
       "      <td>-1.216988</td>\n",
       "      <td>0.006788</td>\n",
       "    </tr>\n",
       "    <tr>\n",
       "      <th>C</th>\n",
       "      <td>-0.347365</td>\n",
       "      <td>0.441092</td>\n",
       "      <td>0.773226</td>\n",
       "      <td>-0.752830</td>\n",
       "      <td>-0.752830</td>\n",
       "      <td>-0.752830</td>\n",
       "      <td>0.035627</td>\n",
       "    </tr>\n",
       "    <tr>\n",
       "      <th>G</th>\n",
       "      <td>0.582171</td>\n",
       "      <td>0.240422</td>\n",
       "      <td>0.555503</td>\n",
       "      <td>-0.752830</td>\n",
       "      <td>-0.752830</td>\n",
       "      <td>1.645065</td>\n",
       "      <td>0.969936</td>\n",
       "    </tr>\n",
       "    <tr>\n",
       "      <th>T</th>\n",
       "      <td>-0.811523</td>\n",
       "      <td>-0.085586</td>\n",
       "      <td>-0.523841</td>\n",
       "      <td>-1.216988</td>\n",
       "      <td>1.180908</td>\n",
       "      <td>-1.216988</td>\n",
       "      <td>-0.223736</td>\n",
       "    </tr>\n",
       "  </tbody>\n",
       "</table>\n",
       "</div>"
      ],
      "text/plain": [
       "         -3        -2        -1         1         2         3         4\n",
       "A  0.757093  0.372247  0.118013  1.180908 -1.216988 -1.216988  0.006788\n",
       "C -0.347365  0.441092  0.773226 -0.752830 -0.752830 -0.752830  0.035627\n",
       "G  0.582171  0.240422  0.555503 -0.752830 -0.752830  1.645065  0.969936\n",
       "T -0.811523 -0.085586 -0.523841 -1.216988  1.180908 -1.216988 -0.223736"
      ]
     },
     "execution_count": 14,
     "metadata": {},
     "output_type": "execute_result"
    }
   ],
   "source": [
    "PWMdf"
   ]
  },
  {
   "cell_type": "code",
   "execution_count": 15,
   "metadata": {},
   "outputs": [],
   "source": [
    "PWMdf.to_csv('output.csv')"
   ]
  },
  {
   "cell_type": "code",
   "execution_count": 16,
   "metadata": {},
   "outputs": [],
   "source": [
    "PWMdf.to_html('output.html')"
   ]
  },
  {
   "cell_type": "code",
   "execution_count": null,
   "metadata": {},
   "outputs": [],
   "source": []
  }
 ],
 "metadata": {
  "kernelspec": {
   "display_name": "Python 3",
   "language": "python",
   "name": "python3"
  },
  "language_info": {
   "codemirror_mode": {
    "name": "ipython",
    "version": 3
   },
   "file_extension": ".py",
   "mimetype": "text/x-python",
   "name": "python",
   "nbconvert_exporter": "python",
   "pygments_lexer": "ipython3",
   "version": "3.7.3"
  }
 },
 "nbformat": 4,
 "nbformat_minor": 4
}
